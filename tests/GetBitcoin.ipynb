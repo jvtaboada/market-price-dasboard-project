{
 "cells": [
  {
   "cell_type": "code",
   "execution_count": 4,
   "id": "bf092362",
   "metadata": {},
   "outputs": [],
   "source": [
    "#pip install requests\n",
    "#pip install pandas"
   ]
  },
  {
   "cell_type": "code",
   "execution_count": null,
   "id": "6373b851",
   "metadata": {},
   "outputs": [
    {
     "ename": "ImportError",
     "evalue": "cannot import name 'þdatetime' from 'datetime' (C:\\Users\\JoaoVitordeAlmeidaTa\\AppData\\Local\\Programs\\Python\\Python313\\Lib\\datetime.py)",
     "output_type": "error",
     "traceback": [
      "\u001b[31m---------------------------------------------------------------------------\u001b[39m",
      "\u001b[31mImportError\u001b[39m                               Traceback (most recent call last)",
      "\u001b[36mCell\u001b[39m\u001b[36m \u001b[39m\u001b[32mIn[1]\u001b[39m\u001b[32m, line 2\u001b[39m\n\u001b[32m      1\u001b[39m \u001b[38;5;28;01mimport\u001b[39;00m\u001b[38;5;250m \u001b[39m\u001b[34;01mrequests\u001b[39;00m\n\u001b[32m----> \u001b[39m\u001b[32m2\u001b[39m \u001b[38;5;28;01mfrom\u001b[39;00m\u001b[38;5;250m \u001b[39m\u001b[34;01mdatetime\u001b[39;00m\u001b[38;5;250m \u001b[39m\u001b[38;5;28;01mimport\u001b[39;00m þdatetime\n\u001b[32m      3\u001b[39m \u001b[38;5;28;01mimport\u001b[39;00m\u001b[38;5;250m \u001b[39m\u001b[34;01mpandas\u001b[39;00m\u001b[38;5;250m \u001b[39m\u001b[38;5;28;01mas\u001b[39;00m\u001b[38;5;250m \u001b[39m\u001b[34;01mpd\u001b[39;00m\n",
      "\u001b[31mImportError\u001b[39m: cannot import name 'þdatetime' from 'datetime' (C:\\Users\\JoaoVitordeAlmeidaTa\\AppData\\Local\\Programs\\Python\\Python313\\Lib\\datetime.py)"
     ]
    }
   ],
   "source": [
    "import requests\n",
    "from datetime import datetime\n",
    "import pandas as pd"
   ]
  },
  {
   "cell_type": "code",
   "execution_count": 5,
   "id": "bc0a4715",
   "metadata": {},
   "outputs": [],
   "source": [
    "def get_bitcoin_df():\n",
    "    url = \"https://api.coinbase.com/v2/prices/spot\"\n",
    "\n",
    "    response = requests.get(url)\n",
    "    dados = response.json()\n",
    "\n",
    "    preco = float(dados['data']['amount'])\n",
    "    ativo = dados['data']['base']\n",
    "    moeda = dados['data']['currency']\n",
    "    hora_coleta = datetime.now()\n",
    "\n",
    "\n",
    "    df = pd.DataFrame([{\n",
    "        'ativo': ativo,\n",
    "        'moeda': moeda,\n",
    "        'preco': preco,\n",
    "        'hora_coleta': hora_coleta\n",
    "    }])\n",
    "\n",
    "    return df"
   ]
  }
 ],
 "metadata": {
  "kernelspec": {
   "display_name": ".venv",
   "language": "python",
   "name": "python3"
  },
  "language_info": {
   "codemirror_mode": {
    "name": "ipython",
    "version": 3
   },
   "file_extension": ".py",
   "mimetype": "text/x-python",
   "name": "python",
   "nbconvert_exporter": "python",
   "pygments_lexer": "ipython3",
   "version": "3.13.5"
  }
 },
 "nbformat": 4,
 "nbformat_minor": 5
}
