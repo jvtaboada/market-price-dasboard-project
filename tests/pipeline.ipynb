{
 "cells": [
  {
   "cell_type": "code",
   "execution_count": null,
   "id": "da36bba4",
   "metadata": {},
   "outputs": [],
   "source": [
    "from 'tests\\get-bitcoin.ipynb' import get_bitcoin_df\n",
    "\n",
    "from 'tests\\get-commodities.ipynb' import get_commodities_df"
   ]
  },
  {
   "cell_type": "code",
   "execution_count": null,
   "id": "6d090ede",
   "metadata": {},
   "outputs": [],
   "source": [
    "get_bitcoin_df"
   ]
  }
 ],
 "metadata": {
  "kernelspec": {
   "display_name": ".venv",
   "language": "python",
   "name": "python3"
  },
  "language_info": {
   "codemirror_mode": {
    "name": "ipython",
    "version": 3
   },
   "file_extension": ".py",
   "mimetype": "text/x-python",
   "name": "python",
   "nbconvert_exporter": "python",
   "pygments_lexer": "ipython3",
   "version": "3.13.5"
  }
 },
 "nbformat": 4,
 "nbformat_minor": 5
}
