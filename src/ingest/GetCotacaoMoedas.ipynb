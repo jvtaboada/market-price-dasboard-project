{
 "cells": [
  {
   "cell_type": "code",
   "execution_count": 10,
   "id": "578517bd",
   "metadata": {},
   "outputs": [],
   "source": [
    "import requests\n",
    "import pandas as pd"
   ]
  },
  {
   "cell_type": "code",
   "execution_count": 60,
   "id": "dc01eefe",
   "metadata": {},
   "outputs": [
    {
     "data": {
      "text/plain": [
       "['AUD', 'CAD', 'CHF', 'DKK', 'EUR', 'GBP', 'JPY', 'NOK', 'SEK', 'USD']"
      ]
     },
     "execution_count": 60,
     "metadata": {},
     "output_type": "execute_result"
    }
   ],
   "source": [
    "url = \"https://olinda.bcb.gov.br/olinda/servico/PTAX/versao/v1/odata/Moedas?$top=100&$format=json&$select=simbolo,nomeFormatado\"\n",
    "\n",
    "response = requests.get(url)\n",
    "\n",
    "data = response.json()\n",
    "\n",
    "moedas = [m[\"simbolo\"] for m in data[\"value\"]]\n",
    "moedas\n",
    "\n",
    "#df_moedas = pd.DataFrame(data[\"value\"])\n",
    "#df_moedas"
   ]
  },
  {
   "cell_type": "code",
   "execution_count": 61,
   "id": "31c2f154",
   "metadata": {},
   "outputs": [
    {
     "data": {
      "text/html": [
       "<div>\n",
       "<style scoped>\n",
       "    .dataframe tbody tr th:only-of-type {\n",
       "        vertical-align: middle;\n",
       "    }\n",
       "\n",
       "    .dataframe tbody tr th {\n",
       "        vertical-align: top;\n",
       "    }\n",
       "\n",
       "    .dataframe thead th {\n",
       "        text-align: right;\n",
       "    }\n",
       "</style>\n",
       "<table border=\"1\" class=\"dataframe\">\n",
       "  <thead>\n",
       "    <tr style=\"text-align: right;\">\n",
       "      <th></th>\n",
       "      <th>cotacaoCompra</th>\n",
       "      <th>dataHoraCotacao</th>\n",
       "      <th>moeda</th>\n",
       "    </tr>\n",
       "  </thead>\n",
       "  <tbody>\n",
       "    <tr>\n",
       "      <th>0</th>\n",
       "      <td>3.51480</td>\n",
       "      <td>2025-08-18 13:11:11.455</td>\n",
       "      <td>AUD</td>\n",
       "    </tr>\n",
       "    <tr>\n",
       "      <th>1</th>\n",
       "      <td>3.91820</td>\n",
       "      <td>2025-08-18 13:11:11.455</td>\n",
       "      <td>CAD</td>\n",
       "    </tr>\n",
       "    <tr>\n",
       "      <th>2</th>\n",
       "      <td>6.70910</td>\n",
       "      <td>2025-08-18 13:11:11.455</td>\n",
       "      <td>CHF</td>\n",
       "    </tr>\n",
       "    <tr>\n",
       "      <th>3</th>\n",
       "      <td>0.84630</td>\n",
       "      <td>2025-08-18 13:11:11.455</td>\n",
       "      <td>DKK</td>\n",
       "    </tr>\n",
       "    <tr>\n",
       "      <th>4</th>\n",
       "      <td>6.31650</td>\n",
       "      <td>2025-08-18 13:11:11.455</td>\n",
       "      <td>EUR</td>\n",
       "    </tr>\n",
       "    <tr>\n",
       "      <th>5</th>\n",
       "      <td>7.31770</td>\n",
       "      <td>2025-08-18 13:11:11.455</td>\n",
       "      <td>GBP</td>\n",
       "    </tr>\n",
       "    <tr>\n",
       "      <th>6</th>\n",
       "      <td>0.03664</td>\n",
       "      <td>2025-08-18 13:11:11.455</td>\n",
       "      <td>JPY</td>\n",
       "    </tr>\n",
       "    <tr>\n",
       "      <th>7</th>\n",
       "      <td>0.53040</td>\n",
       "      <td>2025-08-18 13:11:11.455</td>\n",
       "      <td>NOK</td>\n",
       "    </tr>\n",
       "    <tr>\n",
       "      <th>8</th>\n",
       "      <td>0.56600</td>\n",
       "      <td>2025-08-18 13:11:11.455</td>\n",
       "      <td>SEK</td>\n",
       "    </tr>\n",
       "    <tr>\n",
       "      <th>9</th>\n",
       "      <td>5.41490</td>\n",
       "      <td>2025-08-18 13:11:11.455</td>\n",
       "      <td>USD</td>\n",
       "    </tr>\n",
       "  </tbody>\n",
       "</table>\n",
       "</div>"
      ],
      "text/plain": [
       "   cotacaoCompra          dataHoraCotacao moeda\n",
       "0        3.51480  2025-08-18 13:11:11.455   AUD\n",
       "1        3.91820  2025-08-18 13:11:11.455   CAD\n",
       "2        6.70910  2025-08-18 13:11:11.455   CHF\n",
       "3        0.84630  2025-08-18 13:11:11.455   DKK\n",
       "4        6.31650  2025-08-18 13:11:11.455   EUR\n",
       "5        7.31770  2025-08-18 13:11:11.455   GBP\n",
       "6        0.03664  2025-08-18 13:11:11.455   JPY\n",
       "7        0.53040  2025-08-18 13:11:11.455   NOK\n",
       "8        0.56600  2025-08-18 13:11:11.455   SEK\n",
       "9        5.41490  2025-08-18 13:11:11.455   USD"
      ]
     },
     "execution_count": 61,
     "metadata": {},
     "output_type": "execute_result"
    }
   ],
   "source": [
    "all_data = []\n",
    "#data_final = fazer dinamico?\n",
    "#data_inicial = fazer dinamico?\n",
    "\n",
    "for moeda in moedas:\n",
    "    url = (\"https://olinda.bcb.gov.br/olinda/servico/PTAX/versao/v1/odata/\"\n",
    "        \"CotacaoMoedaPeriodo(moeda=@moeda,dataInicial=@dataInicial,dataFinalCotacao=@dataFinalCotacao)?\"\n",
    "        \"@moeda='\" + moeda + \"'&@dataInicial='08-17-2025'&@dataFinalCotacao='08-18-2025'&$top=100&$\"\n",
    "        \"filter=tipoBoletim%20eq%20'Fechamento'&$format=json&$select=cotacaoCompra,dataHoraCotacao\"\n",
    "        )\n",
    "\n",
    "    response = requests.get(url)\n",
    "    data = response.json()\n",
    "\n",
    "    # pega a lista dentro de \"value\"\n",
    "    values = data.get(\"value\", [])\n",
    "\n",
    "    # adiciona o campo \"moeda\" em cada item\n",
    "    for item in values:\n",
    "        item[\"moeda\"] = moeda\n",
    "\n",
    "    all_data.extend(values)\n",
    "\n",
    "df_cotacao_moedas = pd.DataFrame(all_data)\n",
    "df_cotacao_moedas"
   ]
  }
 ],
 "metadata": {
  "kernelspec": {
   "display_name": ".venv",
   "language": "python",
   "name": "python3"
  },
  "language_info": {
   "codemirror_mode": {
    "name": "ipython",
    "version": 3
   },
   "file_extension": ".py",
   "mimetype": "text/x-python",
   "name": "python",
   "nbconvert_exporter": "python",
   "pygments_lexer": "ipython3",
   "version": "3.13.5"
  }
 },
 "nbformat": 4,
 "nbformat_minor": 5
}
